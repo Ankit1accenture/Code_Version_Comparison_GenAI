{
 "cells": [
  {
   "cell_type": "code",
   "execution_count": 1,
   "metadata": {},
   "outputs": [],
   "source": [
    "import os\n",
    "import openai\n",
    "\n",
    "\n",
    "openai.api_type = \"azure\"\n",
    "openai.api_base = \"https://acceuubyteopenai.openai.azure.com/\" \n",
    "openai.api_version = \"2023-05-15-preview\"\n",
    "openai.api_key = \"8ddd9f33112a43b0894c7ad0a0aa6263\"\n",
    "\n",
    "os.environ[\"OPENAI_API_KEY\"] = '8ddd9f33112a43b0894c7ad0a0aa6263'\n",
    "os.environ[\"REQUESTS_CA_BUNDLE\"] = r\"C:\\Users\\ankit.cm.sharma\\Documents\\Digital Guardian, Inc.crt\""
   ]
  },
  {
   "cell_type": "code",
   "execution_count": 2,
   "metadata": {},
   "outputs": [
    {
     "name": "stderr",
     "output_type": "stream",
     "text": [
      "C:\\Users\\ankit.cm.sharma\\AppData\\Local\\Continuum\\anaconda33\\lib\\site-packages\\urllib3\\connectionpool.py:847: InsecureRequestWarning: Unverified HTTPS request is being made. Adding certificate verification is strongly advised. See: https://urllib3.readthedocs.io/en/latest/advanced-usage.html#ssl-warnings\n",
      "  InsecureRequestWarning)\n"
     ]
    },
    {
     "name": "stdout",
     "output_type": "stream",
     "text": [
      "Yes, other Azure Cognitive Services also support customer managed keys. In fact, most Azure services that deal with sensitive data provide the ability to use customer-managed keys to help customers meet their compliance and regulatory requirements. This includes services such as Azure Key Vault, Azure Storage, and Azure Database services.\n"
     ]
    }
   ],
   "source": [
    "#Note: The openai-python library support for Azure OpenAI is in preview.\n",
    "import os\n",
    "import openai\n",
    "openai.api_type = \"azure\"\n",
    "openai.api_base = \"https://acceuubyteopenai.openai.azure.com/\" \n",
    "openai.api_version = \"2023-05-15\"\n",
    "openai.api_key = \"8ddd9f33112a43b0894c7ad0a0aa6263\"\n",
    "\n",
    "response = openai.ChatCompletion.create(\n",
    "    engine=\"gpt-35-turbo\", # engine = \"deployment_name\".\n",
    "    messages=[\n",
    "        {\"role\": \"system\", \"content\": \"You are a helpful assistant.\"},\n",
    "        {\"role\": \"user\", \"content\": \"Does Azure OpenAI support customer managed keys?\"},\n",
    "        {\"role\": \"assistant\", \"content\": \"Yes, customer managed keys are supported by Azure OpenAI.\"},\n",
    "        {\"role\": \"user\", \"content\": \"Do other Azure Cognitive Services support this too?\"}\n",
    "    ]\n",
    ")\n",
    "\n",
    "#print(response)\n",
    "print(response['choices'][0]['message']['content'])"
   ]
  },
  {
   "cell_type": "code",
   "execution_count": 45,
   "metadata": {},
   "outputs": [
    {
     "name": "stderr",
     "output_type": "stream",
     "text": [
      "C:\\Users\\ankit.cm.sharma\\AppData\\Local\\Continuum\\anaconda33\\lib\\site-packages\\urllib3\\connectionpool.py:847: InsecureRequestWarning: Unverified HTTPS request is being made. Adding certificate verification is strongly advised. See: https://urllib3.readthedocs.io/en/latest/advanced-usage.html#ssl-warnings\n",
      "  InsecureRequestWarning)\n"
     ]
    },
    {
     "name": "stdout",
     "output_type": "stream",
     "text": [
      "{\n",
      "\"Model Objective\":{\n",
      "\"Code1\":\"The first Code reads the data and processes the data to engineering features and predicts the end brightness value. This Code uses the Machine Learning models to predict the end Brightness value. Recommendations are made to the user based on these predicted values.\",\n",
      "\"Code2\":\"The second code predicts end brightness values by processing data and by performing regression computations.\"\n",
      "},\n",
      "\"Input\":{\n",
      "\"Code1\":\"base_data_1,base_data_2,base_data_3:Data in the form of dataframes;\\n\\nxcols_1,xcols_2: A List of columns that are used for prediction;\\n\\nrec_target : A DataFrame consisting of Coefficients and Constants required for the prediction process\",\n",
      "\"Code2\":\"base_data_1,base_data_2,base_data_3:Data in the form of dataframes;\\n\\nxcols_1,xcols_2: A List of columns that are used for prediction;\\n\\nrec_target : A DataFrame consisting of Coefficients and Constants required for the prediction process\"\n",
      "},\n",
      "\"Output\":{\n",
      "\"Code1\":\"Output consists of the timestamp, predicated end brightness, recommended H2O2 dosage, and the predicted end brightness value without any post-processing;\",\n",
      "\"Code2\":\"Output has already been post-processed via a regression calculation and returned in the form of a dataframe\"\n",
      "}\n",
      "}<|im_sep|>\n"
     ]
    }
   ],
   "source": [
    "# Read Code from Python files\n",
    "import json\n",
    "\n",
    "\n",
    "with open(r\"C:\\Users\\ankit.cm.sharma\\Downloads\\JK Paper handover\\Code Version Comparison usecase\\Sample_Bleaching_Model\\Sample_Bleaching_Model\\14_JKPM_Bleaching_Chemical_Optimization_v1\\Script\\Bleaching_Function.py\", 'r') as file:\n",
    "    Code_version_1 = file.read()\n",
    "\n",
    "with open(r\"C:\\Users\\ankit.cm.sharma\\Downloads\\JK Paper handover\\Code Version Comparison usecase\\Sample_Bleaching_Model\\Sample_Bleaching_Model\\14_JKPM_Bleaching_Chemical_Optimization_v2\\Script\\Function_EOP.py\", 'r') as file:\n",
    "    Code_version_2 = file.read()\n",
    "\n",
    "    \n",
    "\n",
    "differences = {\n",
    "  'Model Objective': {'Code1':'<explain the summary logic of entire Code1>', 'Code2':'<explain the summary logic of entire Code2>'},\n",
    "  'Input': {'Code1':'<identify all input features of Code1 >', 'Code2':'<identify all input features of Code2 >'},\n",
    "  'Output': {'Code1':'<identify output features of Code1>','Code2': '<identify output features of Code2>'},\n",
    "   }\n",
    "\n",
    "\n",
    "### Instructions\n",
    "\n",
    "# Generate the differences in a table format\n",
    "prompt = f\"\"\"You are given two Codes that perform the same task. You are required to Compare the two Codes given below and give the differences between them in the format given below.\n",
    "\n",
    "Output Format:\n",
    "{json.dumps(differences, indent=4)}\n",
    "\n",
    "Code1:\n",
    "{Code_version_1}\n",
    "\n",
    "Code2:\n",
    "{Code_version_2}\n",
    "\n",
    "Output:\n",
    "\n",
    "\"\"\"\n",
    "\n",
    "# Generate the differences using OpenAI API\n",
    "response = openai.Completion.create(\n",
    "    engine=\"gpt-35-turbo\",\n",
    "    prompt=prompt,\n",
    "    max_tokens=1020,\n",
    "    n=1,\n",
    "    stop=None)\n",
    "\n",
    "# Extract the differences from the API response\n",
    "output = response.choices[0].text.strip()\n",
    "print(output)\n"
   ]
  },
  {
   "cell_type": "code",
   "execution_count": 46,
   "metadata": {},
   "outputs": [],
   "source": [
    "output = response.choices[0].text.replace('<|im_sep|>','')"
   ]
  },
  {
   "cell_type": "code",
   "execution_count": 47,
   "metadata": {},
   "outputs": [
    {
     "data": {
      "text/html": [
       "<div>\n",
       "<style scoped>\n",
       "    .dataframe tbody tr th:only-of-type {\n",
       "        vertical-align: middle;\n",
       "    }\n",
       "\n",
       "    .dataframe tbody tr th {\n",
       "        vertical-align: top;\n",
       "    }\n",
       "\n",
       "    .dataframe thead th {\n",
       "        text-align: right;\n",
       "    }\n",
       "</style>\n",
       "<table border=\"1\" class=\"dataframe\">\n",
       "  <thead>\n",
       "    <tr style=\"text-align: right;\">\n",
       "      <th></th>\n",
       "      <th>Code1</th>\n",
       "      <th>Code2</th>\n",
       "    </tr>\n",
       "  </thead>\n",
       "  <tbody>\n",
       "    <tr>\n",
       "      <th>Model Objective</th>\n",
       "      <td>The first Code reads the data and processes th...</td>\n",
       "      <td>The second code predicts end brightness values...</td>\n",
       "    </tr>\n",
       "    <tr>\n",
       "      <th>Input</th>\n",
       "      <td>base_data_1,base_data_2,base_data_3:Data in th...</td>\n",
       "      <td>base_data_1,base_data_2,base_data_3:Data in th...</td>\n",
       "    </tr>\n",
       "    <tr>\n",
       "      <th>Output</th>\n",
       "      <td>Output consists of the timestamp, predicated e...</td>\n",
       "      <td>Output has already been post-processed via a r...</td>\n",
       "    </tr>\n",
       "  </tbody>\n",
       "</table>\n",
       "</div>"
      ],
      "text/plain": [
       "                                                             Code1  \\\n",
       "Model Objective  The first Code reads the data and processes th...   \n",
       "Input            base_data_1,base_data_2,base_data_3:Data in th...   \n",
       "Output           Output consists of the timestamp, predicated e...   \n",
       "\n",
       "                                                             Code2  \n",
       "Model Objective  The second code predicts end brightness values...  \n",
       "Input            base_data_1,base_data_2,base_data_3:Data in th...  \n",
       "Output           Output has already been post-processed via a r...  "
      ]
     },
     "execution_count": 47,
     "metadata": {},
     "output_type": "execute_result"
    }
   ],
   "source": [
    "import pandas as pd\n",
    "import json\n",
    "\n",
    "\n",
    "data = json.loads(output)\n",
    "df = pd.DataFrame.from_dict(data)\n",
    "df = df.transpose()\n",
    "\n",
    "# Print the DataFrame\n",
    "df"
   ]
  },
  {
   "cell_type": "code",
   "execution_count": 56,
   "metadata": {},
   "outputs": [
    {
     "name": "stderr",
     "output_type": "stream",
     "text": [
      "C:\\Users\\ankit.cm.sharma\\AppData\\Local\\Continuum\\anaconda33\\lib\\site-packages\\urllib3\\connectionpool.py:847: InsecureRequestWarning: Unverified HTTPS request is being made. Adding certificate verification is strongly advised. See: https://urllib3.readthedocs.io/en/latest/advanced-usage.html#ssl-warnings\n",
      "  InsecureRequestWarning)\n"
     ]
    },
    {
     "name": "stdout",
     "output_type": "stream",
     "text": [
      "{\n",
      "    \"Model\": {\n",
      "        \"Code1\": \"2 models are used :\\n1. Global Model\\n    It has 80 features. The features are relatively working the\\n    same for both the models\\n2. Local Model\\n    It has 95 features. It was developed to counter the issues\\n    faced with the global model and to increase the accuracy of the\\n    results.\",\n",
      "        \"Code2\": \"Single Model is used. It uses different input data than Code1. The are 10 features\"\n",
      "    },\n",
      "    \"Description of Modules used\": {\n",
      "        \"Code1\": \"- pandas\\n- numpy\\n- joblib\\n- datetime\\n- warnings\\n- requests\\n- from requests_negotiate_sspi import HttpNegotiateAuth\\n- osisoft.pidevclub.piwebapi.models import PIAnalysis, PIItemsStreamValues, PIStreamValues, PITimedValue\\n- osisoft.pidevclub.piwebapi.pi_web_api_client import PIWebApiClient\\n- osisoft.pidevclub.piwebapi.rest import ApiException\\n- from requests_ntlm import HttpNtlmAuth\\n- from requests_negotiate_sspi import HttpNegotiateAuth\",\n",
      "        \"Code2\": \"- pandas\\n- numpy\"\n",
      "    },\n",
      "    \"Explanation of Steps\": {\n",
      "        \"Code1\": \"- Data extraction from Osisoft using piweb api\\n- Concatenated Data from different assets for the features\\n- Aggregated data timestamp every minute\\n- Engineered Features\\n- Model 1 (XGBoost) and Model 2 (PLSR) Prediction and Output\\n- H2O2 Dose Recommendation\\n- Error Handling\",\n",
      "        \"Code2\": \"- Multi-Step data imputation is done using custom function in pipeline form.\\n- the data is exported to .df files\"\n",
      "    }\n",
      "}\n",
      "######################################################################################\n",
      "## Differences\n",
      "######################################################################################\n",
      "\n",
      "## Both the codes are different.\n",
      "## Both Codes are written to solve same kind of problem. They are written to predict the Brightness of EOP of LEAP reactor.\n",
      "## But have different number of features from the different assets, and the models used for the prediction are different also. \n",
      "\n",
      "## Code1 Description \n",
      "##    - Code1 is written in Python. \n",
      "##    - Code1 uses multiple modules like pandas, numpy, joblib, datetime, warnings, osisoft.pidevclub.piwebapi.models, osisoft.pidevclub.piwebapi.pi_web_api_client, osisoft.pidevclub.piwebapi.rest, requests_ntlm and requests_negotiate_sspi.\n",
      "##    - Code1 extracts data from the Osisoft server, aggregates it on timestamp every minute, and engineered the features.\n",
      "##    - Code1 then predict the Brightness of EOP of LEAP reactor through two models - Model 1 (XGBoost) and Model 2 (PLSR).\n",
      "##    - H2O2 Dose Recommendation is done on the basis of earlier predicted Brightness value and present values of certain columns.\n",
      "##    - Error handling is done wherever necessary and suggested output is given.\n",
      "\n",
      "## Code2 Description\n",
      "##    - Code2 is written in Python\n",
      "##    - It exports the data to .df files after multi step imputation using a custom function in pipeline form.\n",
      "##    - As a standalone code, it does not provide data extractions, data description, and error handling. Refe to code1 for the full solution.\n",
      "\n",
      "## Code1 Model Explanation\n",
      "##    - Code1 has 2 models 'Model 1' and 'Model 2'.\n",
      "##    - Model 1 has 80 features picked from different assets. It is a type of XGboost model.\n",
      "##    - Model 2 has 95 features picked from different assets. It is a type of PLSR model. Used to counter the issues faced with Model 1 and to increase the accuracy of the results.\n",
      "\n",
      "## Code2 Model Explanation \n",
      "##    - Code2 has a single model prediction.\n",
      "##    - It uses 10 features. \n",
      "##    - For the same type of problem, it has a different set of features as compared to code1, and a single model is used for the prediction.\n",
      "\n",
      "\n",
      "\n",
      "\n",
      "    \n",
      "    \n",
      "    <|im_sep|>\n"
     ]
    }
   ],
   "source": [
    "# Read code from Python files\n",
    "import json\n",
    "\n",
    "\n",
    "with open(r\"C:\\Users\\ankit.cm.sharma\\Downloads\\JK Paper handover\\Code Version Comparison usecase\\Sample_Bleaching_Model\\Sample_Bleaching_Model\\14_JKPM_Bleaching_Chemical_Optimization_v1\\Script\\Bleaching_Function.py\", 'r') as file:\n",
    "    code_version_1 = file.read()\n",
    "\n",
    "with open(r\"C:\\Users\\ankit.cm.sharma\\Downloads\\JK Paper handover\\Code Version Comparison usecase\\Sample_Bleaching_Model\\Sample_Bleaching_Model\\14_JKPM_Bleaching_Chemical_Optimization_v2\\Script\\Function_EOP.py\", 'r') as file:\n",
    "    code_version_2 = file.read()\n",
    "\n",
    "differences = {\n",
    "  'Model': {'Code1':'<Give which ML models are used and explain what it does in code1 here>', 'Code2':'<Give which ML models are used in code2>'},\n",
    "  'Description of Modules used': {'Code1':'<explain User Defined fucntion used in code1 in seperate lines>', 'Code2':'<explain User Defined fucntion used in code2 in seperate lines>'},\n",
    "  'Explanation of Steps': {'Code1':'<describe main steps or logic involved in the code1 in detail >', 'Code2':'<describe main steps or logic involved in the code2 in detail>'}\n",
    "}\n",
    "\n",
    "\n",
    "### Instructions\n",
    "\n",
    "# Generate the differences in a table format\n",
    "prompt1 = f\"\"\"You are given two codes that perform the same task. You are required to Compare the two codes given below and give the differences between them in the format given below.\n",
    "\n",
    "Output Format:\n",
    "{json.dumps(differences, indent=4)}\n",
    "\n",
    "Code1:\n",
    "{code_version_1}\n",
    "\n",
    "Code2:\n",
    "{code_version_2}\n",
    "\n",
    "Output:\n",
    "\n",
    "\"\"\"\n",
    "\n",
    "# Generate the differences using OpenAI API\n",
    "response1 = openai.Completion.create(\n",
    "    engine=\"gpt-35-turbo\",\n",
    "    prompt=prompt1,\n",
    "    max_tokens=1024,\n",
    "    n=1,\n",
    "    stop=None)\n",
    "\n",
    "# Extract the differences from the API response\n",
    "output1 = response1.choices[0].text.strip()\n",
    "print(output1)\n"
   ]
  },
  {
   "cell_type": "code",
   "execution_count": 50,
   "metadata": {},
   "outputs": [
    {
     "name": "stdout",
     "output_type": "stream",
     "text": [
      "{\n",
      "    \"Model\": {\n",
      "        \"Code1\": \"Linear Regression, Partial Least Squares(PLS) model; Code1 is performing data processing and mapping with the models.\",\n",
      "        \"Code2\": \"Code2 is performing brightness calculation after lag and H2O2 recommendation\"\n",
      "    },\n",
      "    \"Description of Modules used\": {\n",
      "        \"Code1\": \"H2O2_Recommendation is a user-defined function that returns an H2O2 dosage recommendation based on brightness and do-value. In this function, based on the do-value, a constant value Coefficient for each range is declared in rec_target, which is used to calculate the H2O2 recommendation. \",\n",
      "        \"Code2\": \"H2O2_Recommendation is the only user-defined function, used in Code 1 additionally\"\n",
      "    },\n",
      "    \"Explanation of Steps\": {\n",
      "        \"Code1\": \"Data processing where appropriate lags are added to the columns, features are engineered. A function Data_Validation is used for data validation based on the structure of the data, i.e. whether the raw data has null values or it's not a complete raw data, etc. Extrapolation function makes sure that we have all the data to predict. Also, Mapping function maps the column names from different raw data. H2O2_Recommendation function returns an H2O2 dosage recommendation based on brightness and do-value.\",\n",
      "        \"Code2\": \"In Code 2, the input data is first modified to include the Brightness after D0 and the Brightness after D0_Lag. These values are calculated through the PLS regression models used in Code 1. Thereafter, the brightness after EOP is predicted using Linear Regression. H2O2 recommendation function is also used to calculate the H2O2 dosage recommendation based on brightness and do-value. Final output is returned.\"\n",
      "    }\n",
      "}\n"
     ]
    }
   ],
   "source": [
    "#output = response.choices[0].text.replace('<|im_end|>','')\n",
    "output1 = response1.choices[0].text.replace('<|im_sep|>','')\n",
    "print(output1)"
   ]
  },
  {
   "cell_type": "code",
   "execution_count": 51,
   "metadata": {},
   "outputs": [
    {
     "data": {
      "text/html": [
       "<div>\n",
       "<style scoped>\n",
       "    .dataframe tbody tr th:only-of-type {\n",
       "        vertical-align: middle;\n",
       "    }\n",
       "\n",
       "    .dataframe tbody tr th {\n",
       "        vertical-align: top;\n",
       "    }\n",
       "\n",
       "    .dataframe thead th {\n",
       "        text-align: right;\n",
       "    }\n",
       "</style>\n",
       "<table border=\"1\" class=\"dataframe\">\n",
       "  <thead>\n",
       "    <tr style=\"text-align: right;\">\n",
       "      <th></th>\n",
       "      <th>Code1</th>\n",
       "      <th>Code2</th>\n",
       "    </tr>\n",
       "  </thead>\n",
       "  <tbody>\n",
       "    <tr>\n",
       "      <th>Model</th>\n",
       "      <td>Linear Regression, Partial Least Squares(PLS) ...</td>\n",
       "      <td>Code2 is performing brightness calculation aft...</td>\n",
       "    </tr>\n",
       "    <tr>\n",
       "      <th>Description of Modules used</th>\n",
       "      <td>H2O2_Recommendation is a user-defined function...</td>\n",
       "      <td>H2O2_Recommendation is the only user-defined f...</td>\n",
       "    </tr>\n",
       "    <tr>\n",
       "      <th>Explanation of Steps</th>\n",
       "      <td>Data processing where appropriate lags are add...</td>\n",
       "      <td>In Code 2, the input data is first modified to...</td>\n",
       "    </tr>\n",
       "  </tbody>\n",
       "</table>\n",
       "</div>"
      ],
      "text/plain": [
       "                                                                         Code1  \\\n",
       "Model                        Linear Regression, Partial Least Squares(PLS) ...   \n",
       "Description of Modules used  H2O2_Recommendation is a user-defined function...   \n",
       "Explanation of Steps         Data processing where appropriate lags are add...   \n",
       "\n",
       "                                                                         Code2  \n",
       "Model                        Code2 is performing brightness calculation aft...  \n",
       "Description of Modules used  H2O2_Recommendation is the only user-defined f...  \n",
       "Explanation of Steps         In Code 2, the input data is first modified to...  "
      ]
     },
     "execution_count": 51,
     "metadata": {},
     "output_type": "execute_result"
    }
   ],
   "source": [
    "import pandas as pd\n",
    "import json\n",
    "\n",
    "\n",
    "data1 = json.loads(output1)\n",
    "df1 = pd.DataFrame.from_dict(data1)\n",
    "df1 = df1.transpose()\n",
    "\n",
    "# Print the DataFrame\n",
    "df1"
   ]
  },
  {
   "cell_type": "code",
   "execution_count": 52,
   "metadata": {},
   "outputs": [],
   "source": [
    "df2=df.append(df1)"
   ]
  },
  {
   "cell_type": "code",
   "execution_count": 53,
   "metadata": {},
   "outputs": [
    {
     "data": {
      "text/html": [
       "<div>\n",
       "<style scoped>\n",
       "    .dataframe tbody tr th:only-of-type {\n",
       "        vertical-align: middle;\n",
       "    }\n",
       "\n",
       "    .dataframe tbody tr th {\n",
       "        vertical-align: top;\n",
       "    }\n",
       "\n",
       "    .dataframe thead th {\n",
       "        text-align: right;\n",
       "    }\n",
       "</style>\n",
       "<table border=\"1\" class=\"dataframe\">\n",
       "  <thead>\n",
       "    <tr style=\"text-align: right;\">\n",
       "      <th></th>\n",
       "      <th>Code1</th>\n",
       "      <th>Code2</th>\n",
       "    </tr>\n",
       "  </thead>\n",
       "  <tbody>\n",
       "    <tr>\n",
       "      <th>Model Objective</th>\n",
       "      <td>The first Code reads the data and processes th...</td>\n",
       "      <td>The second code predicts end brightness values...</td>\n",
       "    </tr>\n",
       "    <tr>\n",
       "      <th>Input</th>\n",
       "      <td>base_data_1,base_data_2,base_data_3:Data in th...</td>\n",
       "      <td>base_data_1,base_data_2,base_data_3:Data in th...</td>\n",
       "    </tr>\n",
       "    <tr>\n",
       "      <th>Output</th>\n",
       "      <td>Output consists of the timestamp, predicated e...</td>\n",
       "      <td>Output has already been post-processed via a r...</td>\n",
       "    </tr>\n",
       "    <tr>\n",
       "      <th>Model</th>\n",
       "      <td>Linear Regression, Partial Least Squares(PLS) ...</td>\n",
       "      <td>Code2 is performing brightness calculation aft...</td>\n",
       "    </tr>\n",
       "    <tr>\n",
       "      <th>Description of Modules used</th>\n",
       "      <td>H2O2_Recommendation is a user-defined function...</td>\n",
       "      <td>H2O2_Recommendation is the only user-defined f...</td>\n",
       "    </tr>\n",
       "    <tr>\n",
       "      <th>Explanation of Steps</th>\n",
       "      <td>Data processing where appropriate lags are add...</td>\n",
       "      <td>In Code 2, the input data is first modified to...</td>\n",
       "    </tr>\n",
       "  </tbody>\n",
       "</table>\n",
       "</div>"
      ],
      "text/plain": [
       "                                                                         Code1  \\\n",
       "Model Objective              The first Code reads the data and processes th...   \n",
       "Input                        base_data_1,base_data_2,base_data_3:Data in th...   \n",
       "Output                       Output consists of the timestamp, predicated e...   \n",
       "Model                        Linear Regression, Partial Least Squares(PLS) ...   \n",
       "Description of Modules used  H2O2_Recommendation is a user-defined function...   \n",
       "Explanation of Steps         Data processing where appropriate lags are add...   \n",
       "\n",
       "                                                                         Code2  \n",
       "Model Objective              The second code predicts end brightness values...  \n",
       "Input                        base_data_1,base_data_2,base_data_3:Data in th...  \n",
       "Output                       Output has already been post-processed via a r...  \n",
       "Model                        Code2 is performing brightness calculation aft...  \n",
       "Description of Modules used  H2O2_Recommendation is the only user-defined f...  \n",
       "Explanation of Steps         In Code 2, the input data is first modified to...  "
      ]
     },
     "execution_count": 53,
     "metadata": {},
     "output_type": "execute_result"
    }
   ],
   "source": [
    "df2"
   ]
  },
  {
   "cell_type": "code",
   "execution_count": 55,
   "metadata": {},
   "outputs": [],
   "source": [
    "df2.to_excel(\"Comparison Output_new_2.xlsx\")"
   ]
  },
  {
   "cell_type": "code",
   "execution_count": null,
   "metadata": {},
   "outputs": [],
   "source": []
  }
 ],
 "metadata": {
  "kernelspec": {
   "display_name": "Python 3",
   "language": "python",
   "name": "python3"
  },
  "language_info": {
   "codemirror_mode": {
    "name": "ipython",
    "version": 3
   },
   "file_extension": ".py",
   "mimetype": "text/x-python",
   "name": "python",
   "nbconvert_exporter": "python",
   "pygments_lexer": "ipython3",
   "version": "3.7.4"
  }
 },
 "nbformat": 4,
 "nbformat_minor": 5
}
